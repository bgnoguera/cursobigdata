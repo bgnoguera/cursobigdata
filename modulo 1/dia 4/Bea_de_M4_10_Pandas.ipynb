{
  "cells": [
    {
      "cell_type": "code",
      "execution_count": null,
      "metadata": {
        "id": "UrFXQ1apU_6W"
      },
      "outputs": [],
      "source": [
        "import pandas as pd\n",
        "import numpy as np"
      ]
    },
    {
      "cell_type": "markdown",
      "metadata": {
        "id": "4Y_oN0bjU_6N"
      },
      "source": [
        "# Ejercicio 1\n",
        "\n",
        "Obtener las primeras `3` filas de un objeto `DataFrame`.\n",
        "\n"
      ]
    },
    {
      "cell_type": "code",
      "execution_count": null,
      "metadata": {
        "id": "DGL48qcRU_6a",
        "colab": {
          "base_uri": "https://localhost:8080/",
          "height": 217
        },
        "outputId": "b809b5f9-f547-4b04-b3a9-f788c668c0fd"
      },
      "outputs": [
        {
          "output_type": "error",
          "ename": "NameError",
          "evalue": "ignored",
          "traceback": [
            "\u001b[0;31m---------------------------------------------------------------------------\u001b[0m",
            "\u001b[0;31mNameError\u001b[0m                                 Traceback (most recent call last)",
            "\u001b[0;32m<ipython-input-13-799691063727>\u001b[0m in \u001b[0;36m<module>\u001b[0;34m\u001b[0m\n\u001b[1;32m     13\u001b[0m \u001b[0mdf\u001b[0m \u001b[0;34m=\u001b[0m \u001b[0mpd\u001b[0m\u001b[0;34m.\u001b[0m\u001b[0mDataFrame\u001b[0m\u001b[0;34m(\u001b[0m\u001b[0mdata\u001b[0m\u001b[0;34m=\u001b[0m\u001b[0mjugadores\u001b[0m\u001b[0;34m,\u001b[0m \u001b[0mindex\u001b[0m\u001b[0;34m=\u001b[0m\u001b[0mindices\u001b[0m\u001b[0;34m)\u001b[0m\u001b[0;34m\u001b[0m\u001b[0;34m\u001b[0m\u001b[0m\n\u001b[1;32m     14\u001b[0m \u001b[0;34m\u001b[0m\u001b[0m\n\u001b[0;32m---> 15\u001b[0;31m \u001b[0mpd\u001b[0m\u001b[0;34m.\u001b[0m\u001b[0mread_sql\u001b[0m\u001b[0;34m(\u001b[0m\u001b[0;34m\"SELECT * FROM mytable\"\u001b[0m\u001b[0;34m,\u001b[0m\u001b[0mconn\u001b[0m\u001b[0;34m)\u001b[0m\u001b[0;34m\u001b[0m\u001b[0;34m\u001b[0m\u001b[0m\n\u001b[0m\u001b[1;32m     16\u001b[0m \u001b[0mdf\u001b[0m\u001b[0;34m.\u001b[0m\u001b[0miloc\u001b[0m\u001b[0;34m[\u001b[0m\u001b[0;34m:\u001b[0m\u001b[0;36m3\u001b[0m\u001b[0;34m]\u001b[0m\u001b[0;34m\u001b[0m\u001b[0;34m\u001b[0m\u001b[0m\n",
            "\u001b[0;31mNameError\u001b[0m: name 'conn' is not defined"
          ]
        }
      ],
      "source": [
        "  #Datos\n",
        "nombre = ['Oliva', 'Daniela', 'Juan', 'Germán', 'Edward', 'Alex', 'Julio', \n",
        "          'Edgar', 'Angie', 'Irlesa']\n",
        "puntaje = [11.5, 8, 15.5, 0, 8, 19, 13.5, 0, 8, 18]\n",
        "intentos = [1, 3, 2, 3, 2, 3, 1, 1, 2, 1]\n",
        "califico = ['Sí', 'No', 'Sí', 'No', 'No', 'Sí', 'Sí', 'No', 'No', 'Sí']\n",
        "\n",
        "indices = ['a', 'b', 'c', 'd', 'e', 'f', 'g', 'h', 'i', 'j']\n",
        "\n",
        "jugadores = {'nombre': nombre, 'puntaje': puntaje, 'intentos': intentos, \n",
        "             'califico': califico}\n",
        "\n",
        "  df = pd.DataFrame(data=jugadores, index=indices)\n",
        "\n",
        "  pd.read_sql(\"SELECT * FROM mytable\",conn)\n",
        "  df.iloc[:3]"
      ]
    },
    {
      "cell_type": "code",
      "source": [
        "#Solución, aquí tu respuesta\n",
        "pd.read_sql(\"SELECT * FROM mytable\", conn)\n",
        "df.iloc[:3]"
      ],
      "metadata": {
        "id": "qwtXKb1RgZsv",
        "colab": {
          "base_uri": "https://localhost:8080/",
          "height": 182
        },
        "outputId": "956a29cf-5467-41c1-ec7e-bcac4718d495"
      },
      "execution_count": null,
      "outputs": [
        {
          "output_type": "error",
          "ename": "NameError",
          "evalue": "ignored",
          "traceback": [
            "\u001b[0;31m---------------------------------------------------------------------------\u001b[0m",
            "\u001b[0;31mNameError\u001b[0m                                 Traceback (most recent call last)",
            "\u001b[0;32m<ipython-input-3-b3566adecaa3>\u001b[0m in \u001b[0;36m<module>\u001b[0;34m\u001b[0m\n\u001b[1;32m      1\u001b[0m \u001b[0;31m#Solución, aquí tu respuesta\u001b[0m\u001b[0;34m\u001b[0m\u001b[0;34m\u001b[0m\u001b[0;34m\u001b[0m\u001b[0m\n\u001b[0;32m----> 2\u001b[0;31m \u001b[0mdf\u001b[0m\u001b[0;34m.\u001b[0m\u001b[0mindices\u001b[0m\u001b[0;34m[\u001b[0m\u001b[0;34m:\u001b[0m\u001b[0;36m3\u001b[0m\u001b[0;34m]\u001b[0m\u001b[0;34m\u001b[0m\u001b[0;34m\u001b[0m\u001b[0m\n\u001b[0m",
            "\u001b[0;31mNameError\u001b[0m: name 'df' is not defined"
          ]
        }
      ]
    },
    {
      "cell_type": "markdown",
      "metadata": {
        "id": "NwNGmb4OU_6e"
      },
      "source": [
        "# Ejercicio 2\n",
        "\n",
        "Obtener las últimas `3` filas de un objeto `DataFrame`.\n",
        "\n"
      ]
    },
    {
      "cell_type": "code",
      "execution_count": null,
      "metadata": {
        "id": "9bj7tHLtU_6g"
      },
      "outputs": [],
      "source": [
        "#Datos\n",
        "nombre = ['Oliva', 'Daniela', 'Juan', 'Germán', 'Edward', 'Alex', 'Julio', \n",
        "          'Edgar', 'Angie', 'Irlesa']\n",
        "puntaje = [11.5, 8, 15.5, np.nan, 8, 19, 13.5, np.nan, 8, 18]\n",
        "intentos = [1, 3, 2, 3, 2, 3, 1, 1, 2, 1]\n",
        "califico = ['Sí', 'No', 'Sí', 'No', 'No', 'Sí', 'Sí', 'No', 'No', 'Sí']\n",
        "\n",
        "indices = ['a', 'b', 'c', 'd', 'e', 'f', 'g', 'h', 'i', 'j']\n",
        "\n",
        "jugadores = {'nombre': nombre, 'puntaje': puntaje, 'intentos': intentos, \n",
        "             'califico': califico}\n",
        "\n",
        "df = pd.DataFrame(data=jugadores, index=indices)\n",
        "\n",
        "df"
      ]
    },
    {
      "cell_type": "code",
      "source": [
        "#Solución\n"
      ],
      "metadata": {
        "id": "a-rl6WjqgYD3"
      },
      "execution_count": null,
      "outputs": []
    },
    {
      "cell_type": "markdown",
      "metadata": {
        "id": "YBkHGWeoU_6k"
      },
      "source": [
        "# Ejercicio 3\n",
        "\n",
        "Seleccionar las columnas ['nombre', 'califico'] de un objeto `DataFrame`.\n"
      ]
    },
    {
      "cell_type": "code",
      "execution_count": null,
      "metadata": {
        "id": "slG30cC3U_6l"
      },
      "outputs": [],
      "source": [
        "nombre = ['Oliva', 'Daniela', 'Juan', 'Germán', 'Edward', 'Alex', 'Julio', \n",
        "          'Edgar', 'Angie', 'Irlesa']\n",
        "puntaje = [11.5, 8, 15.5, np.nan, 8, 19, 13.5, np.nan, 8, 18]\n",
        "intentos = [1, 3, 2, 3, 2, 3, 1, 1, 2, 1]\n",
        "califico = ['Sí', 'No', 'Sí', 'No', 'No', 'Sí', 'Sí', 'No', 'No', 'Sí']\n",
        "\n",
        "indices = ['a', 'b', 'c', 'd', 'e', 'f', 'g', 'h', 'i', 'j']\n",
        "\n",
        "jugadores = {'nombre': nombre, 'puntaje': puntaje, 'intentos': intentos, \n",
        "             'califico': califico}\n",
        "\n",
        "df = pd.DataFrame(data=jugadores, index=indices)\n",
        "\n",
        "df"
      ]
    },
    {
      "cell_type": "code",
      "source": [],
      "metadata": {
        "id": "sS6zzchiWVEB"
      },
      "execution_count": null,
      "outputs": []
    },
    {
      "cell_type": "markdown",
      "metadata": {
        "id": "pXcNIHfOU_6u"
      },
      "source": [
        "# Ejercicio 4\n",
        "\n",
        "Comprobar si este objeto `DataFrame` está vacío con `empty`.\n",
        "\n"
      ]
    },
    {
      "cell_type": "code",
      "execution_count": null,
      "metadata": {
        "id": "ZL_wTO73U_6u"
      },
      "outputs": [],
      "source": [
        "df = pd.DataFrame({'X': []})\n",
        "\n",
        "df"
      ]
    },
    {
      "cell_type": "code",
      "source": [],
      "metadata": {
        "id": "vLkO1js3gcC2"
      },
      "execution_count": null,
      "outputs": []
    },
    {
      "cell_type": "markdown",
      "metadata": {
        "id": "KHPLQXY2U_6w"
      },
      "source": [
        "# Ejercicio 5\n",
        "\n",
        "Crear un objeto `DataFrame` a partir de objetos `Series`.\n",
        "\n"
      ]
    },
    {
      "cell_type": "code",
      "source": [
        "#Partimos de dos series\n",
        "nombres = pd.Series(['Edward', 'Germán', 'Daniela'])\n",
        "edades = pd.Series([27, 23, 19])"
      ],
      "metadata": {
        "id": "GMBX2giybJzg"
      },
      "execution_count": null,
      "outputs": []
    },
    {
      "cell_type": "code",
      "source": [
        "#1. Metemos las series en un diccionario\n",
        "\n",
        "#2. Metemos el diccionario dentro de un dataframe\n"
      ],
      "metadata": {
        "id": "amZEwU9AbIGD"
      },
      "execution_count": null,
      "outputs": []
    },
    {
      "cell_type": "markdown",
      "metadata": {
        "id": "4KakdpixU_66"
      },
      "source": [
        "# Ejercicio 6\n",
        "\n",
        "Determinar los datos en un `DataFrame` que son nulos (NaN).\n",
        "\n"
      ]
    },
    {
      "cell_type": "code",
      "execution_count": null,
      "metadata": {
        "id": "BZlW2kZDU_66"
      },
      "outputs": [],
      "source": [
        "nombres = ['Edward', 'Daniela', 'Germán']\n",
        "edades = [5, 6, np.nan]\n",
        "fecha_nacimiento = [pd.Timestamp('1990-01-03'), None, np.nan]\n",
        "\n",
        "personas = {'nombre': nombres, 'edad': edades, 'fecha_nacimiento': fecha_nacimiento}\n",
        "\n",
        "df = pd.DataFrame(data=personas)\n",
        "\n",
        "df"
      ]
    },
    {
      "cell_type": "markdown",
      "metadata": {
        "id": "bMfUkKhZU_69"
      },
      "source": [
        "# Ejercicio 7\n",
        "\n",
        "Modificar un valor o entrada específico de un objeto `DataFrame` usando `loc`.\n",
        "\n"
      ]
    },
    {
      "cell_type": "code",
      "execution_count": null,
      "metadata": {
        "id": "qoWOC9xVU_69"
      },
      "outputs": [],
      "source": [
        "datos = {'X': [1, 2, 3, 4, 5], 'Y': [5, 4, 3, 2, 1], 'Z': [2, 3, 5, 7, 11]}\n",
        "\n",
        "indices = ['a', 'b', 'c', 'd', 'e']\n",
        "\n",
        "df = pd.DataFrame(data=datos, index=indices)\n",
        "\n",
        "df"
      ]
    },
    {
      "cell_type": "code",
      "source": [],
      "metadata": {
        "id": "9lBVhwrBdTKD"
      },
      "execution_count": null,
      "outputs": []
    },
    {
      "cell_type": "markdown",
      "metadata": {
        "id": "ejUQyfs1U_6-"
      },
      "source": [
        "# Ejercicio 8\n",
        "\n",
        "Acceder a un valor o entrada específico de un objeto `DataFrame` usando `loc`.\n",
        "\n"
      ]
    },
    {
      "cell_type": "code",
      "execution_count": null,
      "metadata": {
        "id": "OC0aKPQyU_6-"
      },
      "outputs": [],
      "source": [
        "datos = {'X': [1, 2, 3, 4, 5], 'Y': [5, 4, 3, 2, 1], 'Z': [2, 3, 5, 7, 11]}\n",
        "\n",
        "indices = ['a', 'b', 'c', 'd', 'e']\n",
        "\n",
        "df = pd.DataFrame(data=datos, index=indices)\n",
        "\n",
        "df"
      ]
    },
    {
      "cell_type": "markdown",
      "metadata": {
        "id": "j-yoskZ3U_6_"
      },
      "source": [
        "# Ejercicio 9\n",
        "\n",
        "Sumar los valores de la columna intentos con `sum`.\n",
        "\n"
      ]
    },
    {
      "cell_type": "code",
      "execution_count": null,
      "metadata": {
        "id": "8pMpgq8MU_6_"
      },
      "outputs": [],
      "source": [
        "nombre = ['Oliva', 'Daniela', 'Juan', 'Germán', 'Edward', 'Alex', 'Julio', \n",
        "          'Edgar', 'Angie', 'Irlesa']\n",
        "puntaje = [11.5, 8, 15.5, np.nan, 8, 19, 13.5, np.nan, 8, 18]\n",
        "intentos = [1, 3, 2, 3, 2, 3, 1, 1, 2, 1]\n",
        "califico = ['Sí', 'No', 'Sí', 'No', 'No', 'Sí', 'Sí', 'No', 'No', 'Sí']\n",
        "\n",
        "indices = ['a', 'b', 'c', 'd', 'e', 'f', 'g', 'h', 'i', 'j']\n",
        "\n",
        "jugadores = {'nombre': nombre, 'puntaje': puntaje, 'intentos': intentos, \n",
        "             'califico': califico}\n",
        "\n",
        "df = pd.DataFrame(data=jugadores, index=indices)\n",
        "\n",
        "df"
      ]
    },
    {
      "cell_type": "code",
      "source": [],
      "metadata": {
        "id": "gqXs0SG1LC3s"
      },
      "execution_count": null,
      "outputs": []
    },
    {
      "cell_type": "markdown",
      "metadata": {
        "id": "ufIkAcHCU_7C"
      },
      "source": [
        "# Ejercicio 10 (Opcional)\n",
        "\n",
        " Agregar una nueva fila a un objeto `DataFrame` por medio de `loc`.\n",
        "\n"
      ]
    },
    {
      "cell_type": "code",
      "execution_count": null,
      "metadata": {
        "id": "nkzWpV5UU_7C"
      },
      "outputs": [],
      "source": [
        "nombre = ['Oliva', 'Daniela', 'Juan', 'Germán', 'Edward', 'Alex', 'Julio', \n",
        "          'Edgar', 'Angie', 'Irlesa']\n",
        "puntaje = [11.5, 8, 15.5, np.nan, 8, 19, 13.5, np.nan, 8, 18]\n",
        "intentos = [1, 3, 2, 3, 2, 3, 1, 1, 2, 1]\n",
        "califico = ['Sí', 'No', 'Sí', 'No', 'No', 'Sí', 'Sí', 'No', 'No', 'Sí']\n",
        "\n",
        "indices = ['a', 'b', 'c', 'd', 'e', 'f', 'g', 'h', 'i', 'j']\n",
        "\n",
        "jugadores = {'nombre': nombre, 'puntaje': puntaje, 'intentos': intentos, \n",
        "             'califico': califico}\n",
        "\n",
        "df = pd.DataFrame(data=jugadores, index=indices)\n",
        "\n",
        "df"
      ]
    },
    {
      "cell_type": "code",
      "source": [],
      "metadata": {
        "id": "WcNj9e8relMa"
      },
      "execution_count": null,
      "outputs": []
    },
    {
      "cell_type": "markdown",
      "metadata": {
        "id": "WoRZ3WffU_7E"
      },
      "source": [
        "# Ejercicio 11\n",
        "\n",
        "Eliminar una fila de un `DataFrame` con la función `drop`.\n",
        "\n"
      ]
    },
    {
      "cell_type": "code",
      "execution_count": null,
      "metadata": {
        "id": "KRql_CmPU_7E"
      },
      "outputs": [],
      "source": [
        "nombre = ['Oliva', 'Daniela', 'Juan', 'Germán', 'Edward', 'Alex', 'Julio', \n",
        "          'Edgar', 'Angie', 'Irlesa']\n",
        "puntaje = [11.5, 8, 15.5, np.nan, 8, 19, 13.5, np.nan, 8, 18]\n",
        "intentos = [1, 3, 2, 3, 2, 3, 1, 1, 2, 1]\n",
        "califico = ['Sí', 'No', 'Sí', 'No', 'No', 'Sí', 'Sí', 'No', 'No', 'Sí']\n",
        "\n",
        "indices = ['a', 'b', 'c', 'd', 'e', 'f', 'g', 'h', 'i', 'j']\n",
        "\n",
        "jugadores = {'nombre': nombre, 'puntaje': puntaje, 'intentos': intentos, \n",
        "             'califico': califico}\n",
        "\n",
        "df = pd.DataFrame(data=jugadores, index=indices)\n",
        "\n",
        "df"
      ]
    },
    {
      "cell_type": "code",
      "source": [],
      "metadata": {
        "id": "i3aQCZ1Hf8YC"
      },
      "execution_count": null,
      "outputs": []
    },
    {
      "cell_type": "markdown",
      "metadata": {
        "id": "0Qx0HdF9U_7K"
      },
      "source": [
        "# Ejercicio 12\n",
        "\n",
        "Mostrar los n primeros y últimos registros de un objeto `DataFrame` con `head` y `tail`.\n",
        "\n"
      ]
    },
    {
      "cell_type": "code",
      "execution_count": null,
      "metadata": {
        "id": "uEV7j4PtU_7K",
        "colab": {
          "base_uri": "https://localhost:8080/",
          "height": 424
        },
        "outputId": "5b7be0ec-8d32-4204-87cb-fd02a583cc6e"
      },
      "outputs": [
        {
          "output_type": "execute_result",
          "data": {
            "text/plain": [
              "      A    B\n",
              "0     1    1\n",
              "1     2    2\n",
              "2     3    3\n",
              "3     4    4\n",
              "4     5    5\n",
              "..  ...  ...\n",
              "95   96   96\n",
              "96   97   97\n",
              "97   98   98\n",
              "98   99   99\n",
              "99  100  100\n",
              "\n",
              "[100 rows x 2 columns]"
            ],
            "text/html": [
              "\n",
              "  <div id=\"df-65931783-21a7-493d-8775-1db921810869\">\n",
              "    <div class=\"colab-df-container\">\n",
              "      <div>\n",
              "<style scoped>\n",
              "    .dataframe tbody tr th:only-of-type {\n",
              "        vertical-align: middle;\n",
              "    }\n",
              "\n",
              "    .dataframe tbody tr th {\n",
              "        vertical-align: top;\n",
              "    }\n",
              "\n",
              "    .dataframe thead th {\n",
              "        text-align: right;\n",
              "    }\n",
              "</style>\n",
              "<table border=\"1\" class=\"dataframe\">\n",
              "  <thead>\n",
              "    <tr style=\"text-align: right;\">\n",
              "      <th></th>\n",
              "      <th>A</th>\n",
              "      <th>B</th>\n",
              "    </tr>\n",
              "  </thead>\n",
              "  <tbody>\n",
              "    <tr>\n",
              "      <th>0</th>\n",
              "      <td>1</td>\n",
              "      <td>1</td>\n",
              "    </tr>\n",
              "    <tr>\n",
              "      <th>1</th>\n",
              "      <td>2</td>\n",
              "      <td>2</td>\n",
              "    </tr>\n",
              "    <tr>\n",
              "      <th>2</th>\n",
              "      <td>3</td>\n",
              "      <td>3</td>\n",
              "    </tr>\n",
              "    <tr>\n",
              "      <th>3</th>\n",
              "      <td>4</td>\n",
              "      <td>4</td>\n",
              "    </tr>\n",
              "    <tr>\n",
              "      <th>4</th>\n",
              "      <td>5</td>\n",
              "      <td>5</td>\n",
              "    </tr>\n",
              "    <tr>\n",
              "      <th>...</th>\n",
              "      <td>...</td>\n",
              "      <td>...</td>\n",
              "    </tr>\n",
              "    <tr>\n",
              "      <th>95</th>\n",
              "      <td>96</td>\n",
              "      <td>96</td>\n",
              "    </tr>\n",
              "    <tr>\n",
              "      <th>96</th>\n",
              "      <td>97</td>\n",
              "      <td>97</td>\n",
              "    </tr>\n",
              "    <tr>\n",
              "      <th>97</th>\n",
              "      <td>98</td>\n",
              "      <td>98</td>\n",
              "    </tr>\n",
              "    <tr>\n",
              "      <th>98</th>\n",
              "      <td>99</td>\n",
              "      <td>99</td>\n",
              "    </tr>\n",
              "    <tr>\n",
              "      <th>99</th>\n",
              "      <td>100</td>\n",
              "      <td>100</td>\n",
              "    </tr>\n",
              "  </tbody>\n",
              "</table>\n",
              "<p>100 rows × 2 columns</p>\n",
              "</div>\n",
              "      <button class=\"colab-df-convert\" onclick=\"convertToInteractive('df-65931783-21a7-493d-8775-1db921810869')\"\n",
              "              title=\"Convert this dataframe to an interactive table.\"\n",
              "              style=\"display:none;\">\n",
              "        \n",
              "  <svg xmlns=\"http://www.w3.org/2000/svg\" height=\"24px\"viewBox=\"0 0 24 24\"\n",
              "       width=\"24px\">\n",
              "    <path d=\"M0 0h24v24H0V0z\" fill=\"none\"/>\n",
              "    <path d=\"M18.56 5.44l.94 2.06.94-2.06 2.06-.94-2.06-.94-.94-2.06-.94 2.06-2.06.94zm-11 1L8.5 8.5l.94-2.06 2.06-.94-2.06-.94L8.5 2.5l-.94 2.06-2.06.94zm10 10l.94 2.06.94-2.06 2.06-.94-2.06-.94-.94-2.06-.94 2.06-2.06.94z\"/><path d=\"M17.41 7.96l-1.37-1.37c-.4-.4-.92-.59-1.43-.59-.52 0-1.04.2-1.43.59L10.3 9.45l-7.72 7.72c-.78.78-.78 2.05 0 2.83L4 21.41c.39.39.9.59 1.41.59.51 0 1.02-.2 1.41-.59l7.78-7.78 2.81-2.81c.8-.78.8-2.07 0-2.86zM5.41 20L4 18.59l7.72-7.72 1.47 1.35L5.41 20z\"/>\n",
              "  </svg>\n",
              "      </button>\n",
              "      \n",
              "  <style>\n",
              "    .colab-df-container {\n",
              "      display:flex;\n",
              "      flex-wrap:wrap;\n",
              "      gap: 12px;\n",
              "    }\n",
              "\n",
              "    .colab-df-convert {\n",
              "      background-color: #E8F0FE;\n",
              "      border: none;\n",
              "      border-radius: 50%;\n",
              "      cursor: pointer;\n",
              "      display: none;\n",
              "      fill: #1967D2;\n",
              "      height: 32px;\n",
              "      padding: 0 0 0 0;\n",
              "      width: 32px;\n",
              "    }\n",
              "\n",
              "    .colab-df-convert:hover {\n",
              "      background-color: #E2EBFA;\n",
              "      box-shadow: 0px 1px 2px rgba(60, 64, 67, 0.3), 0px 1px 3px 1px rgba(60, 64, 67, 0.15);\n",
              "      fill: #174EA6;\n",
              "    }\n",
              "\n",
              "    [theme=dark] .colab-df-convert {\n",
              "      background-color: #3B4455;\n",
              "      fill: #D2E3FC;\n",
              "    }\n",
              "\n",
              "    [theme=dark] .colab-df-convert:hover {\n",
              "      background-color: #434B5C;\n",
              "      box-shadow: 0px 1px 3px 1px rgba(0, 0, 0, 0.15);\n",
              "      filter: drop-shadow(0px 1px 2px rgba(0, 0, 0, 0.3));\n",
              "      fill: #FFFFFF;\n",
              "    }\n",
              "  </style>\n",
              "\n",
              "      <script>\n",
              "        const buttonEl =\n",
              "          document.querySelector('#df-65931783-21a7-493d-8775-1db921810869 button.colab-df-convert');\n",
              "        buttonEl.style.display =\n",
              "          google.colab.kernel.accessAllowed ? 'block' : 'none';\n",
              "\n",
              "        async function convertToInteractive(key) {\n",
              "          const element = document.querySelector('#df-65931783-21a7-493d-8775-1db921810869');\n",
              "          const dataTable =\n",
              "            await google.colab.kernel.invokeFunction('convertToInteractive',\n",
              "                                                     [key], {});\n",
              "          if (!dataTable) return;\n",
              "\n",
              "          const docLinkHtml = 'Like what you see? Visit the ' +\n",
              "            '<a target=\"_blank\" href=https://colab.research.google.com/notebooks/data_table.ipynb>data table notebook</a>'\n",
              "            + ' to learn more about interactive tables.';\n",
              "          element.innerHTML = '';\n",
              "          dataTable['output_type'] = 'display_data';\n",
              "          await google.colab.output.renderOutput(dataTable, element);\n",
              "          const docLink = document.createElement('div');\n",
              "          docLink.innerHTML = docLinkHtml;\n",
              "          element.appendChild(docLink);\n",
              "        }\n",
              "      </script>\n",
              "    </div>\n",
              "  </div>\n",
              "  "
            ]
          },
          "metadata": {},
          "execution_count": 23
        }
      ],
      "source": [
        "datos_1 = list(range(1, 101))\n",
        "datos_2 = list(range(1, 101))\n",
        "\n",
        "df = pd.DataFrame({'A': datos_1, 'B': datos_2})\n",
        "\n",
        "df"
      ]
    },
    {
      "cell_type": "markdown",
      "metadata": {
        "id": "lCTFTulXU_7N"
      },
      "source": [
        "# Ejercicio 13\n",
        "\n",
        "Agregar una nueva fila a un `DataFrame` con notación de slicing.\n",
        "\n",
        "`df['nombre_nueva_fila'] = valores`\n",
        "\n"
      ]
    },
    {
      "cell_type": "code",
      "execution_count": null,
      "metadata": {
        "id": "M4P6XduDU_7O"
      },
      "outputs": [],
      "source": [
        "nombre = ['Oliva', 'Daniela', 'Juan', 'Germán', 'Edward', 'Alex', 'Julio', \n",
        "          'Edgar', 'Angie', 'Irlesa']\n",
        "puntaje = [11.5, 8, 15.5, np.nan, 8, 19, 13.5, np.nan, 8, 18]\n",
        "intentos = [1, 3, 2, 3, 2, 3, 1, 1, 2, 1]\n",
        "califico = ['Sí', 'No', 'Sí', 'No', 'No', 'Sí', 'Sí', 'No', 'No', 'Sí']\n",
        "\n",
        "indices = ['a', 'b', 'c', 'd', 'e', 'f', 'g', 'h', 'i', 'j']\n",
        "\n",
        "jugadores = {'nombre': nombre, 'puntaje': puntaje, 'intentos': intentos, \n",
        "             'califico': califico}\n",
        "\n",
        "df = pd.DataFrame(data=jugadores, index=indices)\n",
        "\n",
        "df"
      ]
    },
    {
      "cell_type": "code",
      "source": [
        "#Valores nueva fila\n",
        "colores = ['Negro', 'Blanco', 'Azul', 'Verde', 'Rojo', 'Amarillo', \n",
        "           'Gris', 'Naranja', 'Lila', 'Café']\n",
        "\n"
      ],
      "metadata": {
        "id": "XX3b-DpdjMP7"
      },
      "execution_count": null,
      "outputs": []
    },
    {
      "cell_type": "markdown",
      "metadata": {
        "id": "85vOdNZVU_7P"
      },
      "source": [
        "# Recorrer un df\n",
        "\n",
        " Para iterar cada una de las filas de un `DataFrame` utilizamos la función `iterrows`.\n",
        " \n",
        " "
      ]
    },
    {
      "cell_type": "code",
      "execution_count": null,
      "metadata": {
        "id": "yVj0h5ZtU_7Q"
      },
      "outputs": [],
      "source": [
        "nombre = ['Oliva', 'Daniela', 'Juan', 'Germán', 'Edward', 'Alex', 'Julio', \n",
        "          'Edgar', 'Angie', 'Irlesa']\n",
        "puntaje = [11.5, 8, 15.5, np.nan, 8, 19, 13.5, np.nan, 8, 18]\n",
        "intentos = [1, 3, 2, 3, 2, 3, 1, 1, 2, 1]\n",
        "califico = ['Sí', 'No', 'Sí', 'No', 'No', 'Sí', 'Sí', 'No', 'No', 'Sí']\n",
        "\n",
        "indices = ['a', 'b', 'c', 'd', 'e', 'f', 'g', 'h', 'i', 'j']\n",
        "\n",
        "jugadores = {'nombre': nombre, 'puntaje': puntaje, 'intentos': intentos, \n",
        "             'califico': califico}\n",
        "\n",
        "df = pd.DataFrame(data=jugadores, index=indices)\n",
        "\n",
        "df"
      ]
    },
    {
      "cell_type": "code",
      "execution_count": null,
      "metadata": {
        "id": "35G3CX-2U_7Q"
      },
      "outputs": [],
      "source": [
        "for indice, fila in df.iterrows():\n",
        "    print(fila['nombre'], fila['califico'])"
      ]
    },
    {
      "cell_type": "markdown",
      "metadata": {
        "id": "QkSroqCtU_7T"
      },
      "source": [
        "# Ejercicio 14 (Opcional)\n",
        "\n",
        "Obtener como una lista Python los nombres de las columnas de un `DataFrame`.\n",
        "\n"
      ]
    },
    {
      "cell_type": "code",
      "execution_count": null,
      "metadata": {
        "id": "_qip9U98U_7T"
      },
      "outputs": [],
      "source": [
        "datos = {'X': [1, 2, 3, 4, 5], 'Y': [5, 4, 3, 2, 1], 'Z': [2, 3, 5, 7, 11]}\n",
        "\n",
        "df = pd.DataFrame(datos)\n",
        "\n",
        "df"
      ]
    },
    {
      "cell_type": "markdown",
      "metadata": {
        "id": "tpSwq6lfU_7U"
      },
      "source": [
        "# Ejercicio 15\n",
        "\n",
        "Renombrar las columnas de un objeto `DataFrame` a partir del diccionario dado.\n",
        "\n"
      ]
    },
    {
      "cell_type": "code",
      "execution_count": null,
      "metadata": {
        "id": "STJV7o5QU_7V"
      },
      "outputs": [],
      "source": [
        "datos = {'Columna1': [1, 2, 3, 4, 5], 'Columna2': [5, 4, 3, 2, 1], \n",
        "         'Columna3': [2, 3, 5, 7, 11]}\n",
        "\n",
        "indices = ['a', 'b', 'c', 'd', 'e']\n",
        "\n",
        "df = pd.DataFrame(data=datos, index=indices)\n",
        "\n",
        "df"
      ]
    },
    {
      "cell_type": "code",
      "source": [
        "#Diccionario con los nuevos nombres de las columnas\n",
        "renombrado_columnas = {'Columna1': 'X', 'Columna2': 'Y', 'Columna3': 'Z'}\n",
        "\n"
      ],
      "metadata": {
        "id": "Lv-33UGvlRK6"
      },
      "execution_count": null,
      "outputs": []
    },
    {
      "cell_type": "markdown",
      "metadata": {
        "id": "-rmbBYBKU_7g"
      },
      "source": [
        "# Ejercicio 16\n",
        "\n",
        "* Guardar los registros de un `DataFrame` en un archivo de formato **CSV**.\n",
        "* Prueba a descargarlos en tu PC.\n",
        "\n"
      ]
    },
    {
      "cell_type": "code",
      "execution_count": null,
      "metadata": {
        "id": "lpUhLET5U_7g",
        "outputId": "c28b361e-0195-4473-887e-c9998c790402"
      },
      "outputs": [
        {
          "data": {
            "text/html": [
              "<div>\n",
              "<style scoped>\n",
              "    .dataframe tbody tr th:only-of-type {\n",
              "        vertical-align: middle;\n",
              "    }\n",
              "\n",
              "    .dataframe tbody tr th {\n",
              "        vertical-align: top;\n",
              "    }\n",
              "\n",
              "    .dataframe thead th {\n",
              "        text-align: right;\n",
              "    }\n",
              "</style>\n",
              "<table border=\"1\" class=\"dataframe\">\n",
              "  <thead>\n",
              "    <tr style=\"text-align: right;\">\n",
              "      <th></th>\n",
              "      <th>nombre</th>\n",
              "      <th>puntaje</th>\n",
              "      <th>intentos</th>\n",
              "      <th>califico</th>\n",
              "    </tr>\n",
              "  </thead>\n",
              "  <tbody>\n",
              "    <tr>\n",
              "      <th>a</th>\n",
              "      <td>Oliva</td>\n",
              "      <td>11.5</td>\n",
              "      <td>1</td>\n",
              "      <td>Sí</td>\n",
              "    </tr>\n",
              "    <tr>\n",
              "      <th>b</th>\n",
              "      <td>Daniela</td>\n",
              "      <td>8.0</td>\n",
              "      <td>3</td>\n",
              "      <td>No</td>\n",
              "    </tr>\n",
              "    <tr>\n",
              "      <th>c</th>\n",
              "      <td>Juan</td>\n",
              "      <td>15.5</td>\n",
              "      <td>2</td>\n",
              "      <td>Sí</td>\n",
              "    </tr>\n",
              "    <tr>\n",
              "      <th>d</th>\n",
              "      <td>Germán</td>\n",
              "      <td>NaN</td>\n",
              "      <td>3</td>\n",
              "      <td>No</td>\n",
              "    </tr>\n",
              "    <tr>\n",
              "      <th>e</th>\n",
              "      <td>Edward</td>\n",
              "      <td>8.0</td>\n",
              "      <td>2</td>\n",
              "      <td>No</td>\n",
              "    </tr>\n",
              "    <tr>\n",
              "      <th>f</th>\n",
              "      <td>Alex</td>\n",
              "      <td>19.0</td>\n",
              "      <td>3</td>\n",
              "      <td>Sí</td>\n",
              "    </tr>\n",
              "    <tr>\n",
              "      <th>g</th>\n",
              "      <td>Julio</td>\n",
              "      <td>13.5</td>\n",
              "      <td>1</td>\n",
              "      <td>Sí</td>\n",
              "    </tr>\n",
              "    <tr>\n",
              "      <th>h</th>\n",
              "      <td>Edgar</td>\n",
              "      <td>NaN</td>\n",
              "      <td>1</td>\n",
              "      <td>No</td>\n",
              "    </tr>\n",
              "    <tr>\n",
              "      <th>i</th>\n",
              "      <td>Angie</td>\n",
              "      <td>8.0</td>\n",
              "      <td>2</td>\n",
              "      <td>No</td>\n",
              "    </tr>\n",
              "    <tr>\n",
              "      <th>j</th>\n",
              "      <td>Irlesa</td>\n",
              "      <td>18.0</td>\n",
              "      <td>1</td>\n",
              "      <td>Sí</td>\n",
              "    </tr>\n",
              "  </tbody>\n",
              "</table>\n",
              "</div>"
            ],
            "text/plain": [
              "    nombre  puntaje  intentos califico\n",
              "a    Oliva     11.5         1       Sí\n",
              "b  Daniela      8.0         3       No\n",
              "c     Juan     15.5         2       Sí\n",
              "d   Germán      NaN         3       No\n",
              "e   Edward      8.0         2       No\n",
              "f     Alex     19.0         3       Sí\n",
              "g    Julio     13.5         1       Sí\n",
              "h    Edgar      NaN         1       No\n",
              "i    Angie      8.0         2       No\n",
              "j   Irlesa     18.0         1       Sí"
            ]
          },
          "execution_count": 2,
          "metadata": {},
          "output_type": "execute_result"
        }
      ],
      "source": [
        "nombre = ['Oliva', 'Daniela', 'Juan', 'Germán', 'Edward', 'Alex', 'Julio', \n",
        "          'Edgar', 'Angie', 'Irlesa']\n",
        "puntaje = [11.5, 8, 15.5, np.nan, 8, 19, 13.5, np.nan, 8, 18]\n",
        "intentos = [1, 3, 2, 3, 2, 3, 1, 1, 2, 1]\n",
        "califico = ['Sí', 'No', 'Sí', 'No', 'No', 'Sí', 'Sí', 'No', 'No', 'Sí']\n",
        "\n",
        "indices = ['a', 'b', 'c', 'd', 'e', 'f', 'g', 'h', 'i', 'j']\n",
        "\n",
        "jugadores = {'nombre': nombre, 'puntaje': puntaje, 'intentos': intentos, \n",
        "             'califico': califico}\n",
        "\n",
        "df = pd.DataFrame(data=jugadores, index=indices)\n",
        "\n",
        "df"
      ]
    },
    {
      "cell_type": "code",
      "source": [],
      "metadata": {
        "id": "K9hsrkBAl6zS"
      },
      "execution_count": null,
      "outputs": []
    }
  ],
  "metadata": {
    "kernelspec": {
      "display_name": "Python 3",
      "language": "python",
      "name": "python3"
    },
    "language_info": {
      "codemirror_mode": {
        "name": "ipython",
        "version": 3
      },
      "file_extension": ".py",
      "mimetype": "text/x-python",
      "name": "python",
      "nbconvert_exporter": "python",
      "pygments_lexer": "ipython3",
      "version": "3.7.3"
    },
    "colab": {
      "provenance": []
    }
  },
  "nbformat": 4,
  "nbformat_minor": 0
}